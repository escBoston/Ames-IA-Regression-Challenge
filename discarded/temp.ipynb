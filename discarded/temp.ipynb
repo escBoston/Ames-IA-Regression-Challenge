{
 "cells": [
  {
   "cell_type": "code",
   "execution_count": null,
   "metadata": {},
   "outputs": [],
   "source": [
    "Xtest = test.copy()"
   ]
  },
  {
   "cell_type": "code",
   "execution_count": null,
   "metadata": {},
   "outputs": [],
   "source": [
    "# Create testpoly\n",
    "test_poly = poly.fit_transform(Xtest)\n",
    "\n",
    "#View polynomial features in a DF\n",
    "test_poly_df = pd.DataFrame(test_poly, columns=poly.get_feature_names(Xtest.columns), index=Xtest.index)"
   ]
  },
  {
   "cell_type": "code",
   "execution_count": null,
   "metadata": {},
   "outputs": [],
   "source": [
    "def clean_zero_features(df, threshold=0.25):\n",
    "    \n",
    "    idx = (df == 0).mean() < threshold\n",
    "    \n",
    "    return df[idx[idx].index]\n",
    "\n",
    "test_poly_df = clean_zero_features(X_poly_df)"
   ]
  },
  {
   "cell_type": "code",
   "execution_count": null,
   "metadata": {},
   "outputs": [],
   "source": [
    "T1 = pd.concat([Xtest, test_poly_df[get_top_poly_cols(test_poly_df, .9)]], axis=1)\n",
    "\n",
    "X1 = pd.concat([X, X_poly_df[get_top_poly_cols(X_poly_df, .9)]], axis=1)"
   ]
  },
  {
   "cell_type": "code",
   "execution_count": null,
   "metadata": {},
   "outputs": [],
   "source": [
    "missing = X1.columns[~X1.columns.isin(T1.columns)]\n",
    "for column in missing:\n",
    "    Xtest[column] = 0\n",
    "    \n",
    "T1 = T1[X1.columns]"
   ]
  },
  {
   "cell_type": "code",
   "execution_count": null,
   "metadata": {},
   "outputs": [],
   "source": [
    "# retrain model\n",
    "\n",
    "model = LinearRegression().fit(X1, np.log(y))\n",
    "testpredictions = np.exp(model.predict(T1))"
   ]
  }
 ],
 "metadata": {
  "kernelspec": {
   "display_name": "Python [conda env:root] *",
   "language": "python",
   "name": "conda-root-py"
  },
  "language_info": {
   "codemirror_mode": {
    "name": "ipython",
    "version": 3
   },
   "file_extension": ".py",
   "mimetype": "text/x-python",
   "name": "python",
   "nbconvert_exporter": "python",
   "pygments_lexer": "ipython3",
   "version": "3.7.4"
  }
 },
 "nbformat": 4,
 "nbformat_minor": 2
}
